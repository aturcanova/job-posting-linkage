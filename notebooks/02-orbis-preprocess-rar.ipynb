{
 "cells": [
  {
   "cell_type": "markdown",
   "metadata": {
    "collapsed": true
   },
   "source": [
    "# Load Orbis Data\n",
    "\n",
    "Preprocess Orbis .rar files.\n",
    "\n",
    "The Orbis dataset is split into multiple 'topics' resembling SQL tables.\n",
    "Each of the 'topics' is devided into multiple compressed files. \n",
    "To process the Orbis, data, we need to preprocess these files.\n",
    "\n",
    "In this notebook, we will focus on two parts of the Orbis dataset:\n",
    "1. All Addresses\n",
    "2. BvD ID and Name\n",
    "\n",
    "The first part, _All Addresses_, is composed of 8 compressed files, and \n",
    "the second part, _BvD ID and Name_ is composed of 4 comperssed files.\n",
    "Each of the files takes a few GB of storage space.\n",
    "\n",
    "Therefore, the important part of this notebook is to process these files efficiently with regards to memory and space.\n",
    "For that reason, we decided to omit filtering by the 'Country' and joining the dataframes on the ID, as this operation is too expensive.\n",
    "Both of the dataframes are filetered in the same way, based on their only common column 'BvD ID number'.\n",
    "\n",
    "\n",
    "In this notebook, we call two methods to:\n",
    "- Extract Orbis data files.\n",
    "- Filter out columns with unnecessary data.\n",
    "- Save obtained dataframes to .csv files."
   ]
  },
  {
   "cell_type": "code",
   "execution_count": null,
   "metadata": {},
   "outputs": [],
   "source": [
    "from linkage.dataset.unrar import unrar_addresses, unrar_names"
   ]
  },
  {
   "cell_type": "code",
   "execution_count": null,
   "metadata": {},
   "outputs": [],
   "source": [
    "TYPE = 'all'  # 'all' or 'part01'"
   ]
  },
  {
   "cell_type": "code",
   "execution_count": null,
   "metadata": {},
   "outputs": [],
   "source": [
    "USEFUL_COLS_ADDR = ['BvD ID number', \n",
    "                   'Postcode', \n",
    "                   'City',\n",
    "                   'City (native)',\n",
    "                   'Country',\n",
    "                   'Country ISO code',\n",
    "                   'Region in country']\n",
    "\n",
    "INDEX_COL_ADDR = 'BvD ID number'\n",
    "\n",
    "USEFUL_COLS_NAMES = ['BvD ID number', \n",
    "                   'NAME']\n",
    "\n",
    "INDEX_COL_NAMES = 'BvD ID number'\n",
    "    \n",
    "# Data directories\n",
    "RAW_DIR = \"../data/raw/orbis\"\n",
    "INTERMEDIATE_DIR = f\"../data/intermediate/orbis/\"\n",
    "\n",
    "# Data (.rar) files\n",
    "\n",
    "# Data (.txt) files\n",
    "ADDR_TXT = 'All_addresses.txt'  # Name of the All_addresses.part0x.rar after un-raring\n",
    "NAME_TXT = 'BvD_ID_and_Name.txt'  # Name of the BvD_ID_and_Name.part0x.rar after un-raring\n",
    "\n",
    "# Data (.csv) files\n",
    "NAME_DF_FILE = f\"orbis_german_bvid_name_unprocessed_{TYPE}.csv\"\n",
    "ADDR_DF_FILE = f\"orbis_german_all_addresses_unprocessed_{TYPE}.csv\"\n",
    "ID_DF_FILE = f\"orbis_german_BvD_ID_number_{TYPE}.csv\""
   ]
  },
  {
   "cell_type": "markdown",
   "metadata": {},
   "source": [
    "## 1. Load Address parts of Orbis dataset\n",
    "\n",
    "The Orbis dataset is split and stored in multiple files on the path:\n",
    "```python\n",
    "../data/raw/orbis/\n",
    "```\n",
    "\n",
    "The data are read into Pandas **DataFrame** which is then stored in the file defined in 'ADDR_DF_FILE' on the path:\n",
    "```python\n",
    "../data/intermediate/orbis/\n",
    "```"
   ]
  },
  {
   "cell_type": "markdown",
   "metadata": {},
   "source": [
    "### Get Addresses\n",
    "\n",
    "The company **addresses** are stored in multiple _All_addresses.part0x.rar_.\n",
    "\n",
    "Following function call extracts .rar files containing addresses of companies and concatenate them to a single dataframe.\n",
    "\n",
    "During execution, records are filter using the German ID.\n",
    "\n",
    "After each file is processed, the auxiliary .txt file is removed.\n",
    "\n"
   ]
  },
  {
   "cell_type": "code",
   "execution_count": null,
   "metadata": {},
   "outputs": [],
   "source": [
    "addr_df = unrar_addresses(type_unrar=TYPE,\n",
    "                          source_dir=RAW_DIR,\n",
    "                          dest_dir=INTERMEDIATE_DIR, \n",
    "                          source_file=ADDR_TXT, \n",
    "                          dest_file=ADDR_DF_FILE, \n",
    "                          index_column=INDEX_COL_ADDR, \n",
    "                          useful_columns=USEFUL_COLS_ADDR)\n",
    "addr_df.head()"
   ]
  },
  {
   "cell_type": "markdown",
   "metadata": {},
   "source": [
    "## Load Company Name parts of Orbis dataset\n",
    "\n",
    "The Orbis dataset is split and stored in multiple files on the path:\n",
    "```python\n",
    "../data/raw/orbis/\n",
    "```\n",
    "\n",
    "The data are read into Pandas **DataFrame** which is then stored in the file defined in 'NAME_DF_FILE' on the path:\n",
    "```python\n",
    "../data/intermediate/orbis/\n",
    "```"
   ]
  },
  {
   "cell_type": "markdown",
   "metadata": {},
   "source": [
    "### Get Company Names\n",
    "\n",
    "The company **names** are stored in multiple _BvD_ID_and_Name.part0x.rar_.\n",
    "\n",
    "Following function call extracts .rar files containing names of companies and concatenate them to a single dataframe.\n",
    "\n",
    "During execution, records are filter using the German ID.\n",
    "\n",
    "After each file is processed, the auxiliary .txt file is removed.\n"
   ]
  },
  {
   "cell_type": "code",
   "execution_count": null,
   "metadata": {},
   "outputs": [],
   "source": [
    "name_df = unrar_names(type_unrar=TYPE,\n",
    "                      source_dir=RAW_DIR,\n",
    "                      dest_dir=INTERMEDIATE_DIR, \n",
    "                      source_file=NAME_TXT, \n",
    "                      dest_file=NAME_DF_FILE, \n",
    "                      index_column=INDEX_COL_NAMES, \n",
    "                      useful_columns=USEFUL_COLS_NAMES)\n",
    "name_df.head()"
   ]
  }
 ],
 "metadata": {
  "kernelspec": {
   "display_name": "Python 3",
   "language": "python",
   "name": "python3"
  },
  "language_info": {
   "codemirror_mode": {
    "name": "ipython",
    "version": 3
   },
   "file_extension": ".py",
   "mimetype": "text/x-python",
   "name": "python",
   "nbconvert_exporter": "python",
   "pygments_lexer": "ipython3",
   "version": "3.7.8"
  }
 },
 "nbformat": 4,
 "nbformat_minor": 1
}

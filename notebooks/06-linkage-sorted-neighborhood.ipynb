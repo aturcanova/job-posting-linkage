{
 "cells": [
  {
   "cell_type": "markdown",
   "metadata": {
    "collapsed": true
   },
   "source": [
    "# Record Linkage - Sorted Neighborhood Index\n",
    "\n",
    "In this notebook, we use Record Linkage to match the JobPostings and Orbis datasets using purely SortedNeighborhood Index.\n",
    "\n",
    "The notebook is organized in the following fashion:\n",
    "\n",
    "0. Import libraries and define constants\n",
    "1. Upload parts of JobPostings dataset\n",
    "2. Upload parts of Orbis dataset\n",
    "3. Records to match\n",
    "4. Sorted Neighbourhood Index with addresses\n",
    "5. Sorted Neighbourhood Index without addresses\n",
    "6. Save processed data"
   ]
  },
  {
   "cell_type": "code",
   "execution_count": null,
   "metadata": {},
   "outputs": [],
   "source": [
    "%load_ext autoreload\n",
    "%autoreload 2"
   ]
  },
  {
   "cell_type": "code",
   "execution_count": null,
   "metadata": {},
   "outputs": [],
   "source": [
    "import os\n",
    "import pandas as pd\n",
    "import recordlinkage\n",
    "# Import jellyfish.cjellyfish for record linkage\n",
    "import jellyfish.cjellyfish # The import checks if C-version of string comparision of recordlinkage is installed\n",
    "\n",
    "from linkage.model.utils import save_dataframe, read_dataframe\n",
    "from linkage.model.record_matching import Linking, print_matched_counts, print_unmatched_counts\n",
    "from linkage.model.record_linkage_utils import CompareZipCodes, CompareString\n",
    "from linkage.model.examine_dataframe import print_dataframe_length"
   ]
  },
  {
   "cell_type": "code",
   "execution_count": null,
   "metadata": {},
   "outputs": [],
   "source": [
    "# Two types of data, all or the first part (part01.rar)\n",
    "# part01 is used for implementation purposes \n",
    "# To check if everything is working as it sould\n",
    "TYPE = 'all'  # 'all' or 'part01'\n",
    "\n",
    "# 'std' for standardized, 'std_dict_40k' for dictionary cleaning with the 40k most common words\n",
    "NOTE = 'std'"
   ]
  },
  {
   "cell_type": "code",
   "execution_count": null,
   "metadata": {},
   "outputs": [],
   "source": [
    "# Specify paths to data directories\n",
    "PROCESSED_JP_DIR = f\"../data/processed/jobpostings\"\n",
    "PROCESSED_ORBIS_DIR = f\"../data/processed/orbis/{TYPE}\"\n",
    "PROCESSED_DATA_DIR = f\"../data/processed/linkage/{TYPE}\"\n",
    "\n",
    "# Specifie file names to read from\n",
    "JP_FILE = f'jobpostings_test_sample_std_dict_40k.csv'\n",
    "ORBIS_NAME_FILE = f'orbis_german_bvid_name_processed_{TYPE}_{NOTE}.csv'\n",
    "ORBIS_ADDR_FILE = f'orbis_german_all_addresses_processed_{TYPE}_{NOTE}.csv' #'orbis_german_all_addresses_clean.csv'\n",
    "\n",
    "LINKED_DF = \"linked_matches_sni.csv\"\n",
    "\n",
    "# Columns\n",
    "# JobPostings\n",
    "JP_INDEX = 'jobposting_id'\n",
    "JP_COMPANY_NAME, JP_COMPANY_NAME_STANDARDIZED, JP_COMPANY_NAME_DICT_CLEANED = 'company', 'company_standard', 'company_dict_clean'\n",
    "JP_COMPANY_CITY, JP_COMPANY_ZIP, JP_COMPANY_STATE = 'company_city', 'company_zipcode', 'company_state'\n",
    "JP_JOB_CITY, JP_JOB_ZIP, JP_JOB_STATE = 'job_city', 'job_zipcode', 'job_state'\n",
    "\n",
    "# Orbis\n",
    "ORBIS_INDEX = 'BvD ID number'\n",
    "ORBIS_COMPANY_NAME, ORBIS_COMPANY_NAME_STANDARDIZED, ORBIS_COMPANY_NAME_DICT_CLEANED = 'NAME', 'NAME_standard', 'NAME_dict_clean'\n",
    "ORBIS_COMPANY_CITY, ORBIS_COMPANY_ZIP, ORBIS_COMPANY_STATE = 'City (native)', 'Postcode', 'Region in country'\n",
    "\n",
    "# Files for the partial results \n",
    "SORTED_NN_MATCHING_STD_COMPANY = f\"linked_matches_sni_std_company_{TYPE}_{NOTE}.csv\"\n",
    "SORTED_NN_MATCHING_STD_JOB = f\"linked_matches_sni_std_job_{TYPE}_{NOTE}.csv\"\n",
    "\n",
    "SORTED_NN_MATCHING_ORG_COMPANY = f\"linked_matches_sni_org_company_{TYPE}_{NOTE}.csv\"\n",
    "SORTED_NN_MATCHING_ORG_JOB = f\"linked_matches_sni__org_job_{TYPE}_{NOTE}.csv\"\n",
    "\n",
    "SORTED_NN_MATCHING_STD = f\"linked_matches_sni_std_{TYPE}_{NOTE}.csv\"\n",
    "SORTED_NN_MATCHING_STD_2 = f\"linked_matches_sni_std_{TYPE}_{NOTE}.csv\"\n",
    "\n",
    "SORTED_NN_MATCHING_ORG = f\"linked_matches_sni_org_{TYPE}_{NOTE}.csv\"\n",
    "SORTED_NN_MATCHING_ORG_2 = f\"linked_matches_sni_org_{TYPE}_{NOTE}.csv\"\n",
    "\n",
    "NOT_MATCHED = \"not_matched_sni.txt\"\n"
   ]
  },
  {
   "cell_type": "markdown",
   "metadata": {},
   "source": [
    "## 1. Upload parts of JobPostings dataset\n",
    "\n",
    "The preprocessed JobPostings dataset is stored on path:\n",
    "```python\n",
    "../data/processed/jobpostings/\n",
    "```\n",
    "\n",
    "The data are read into Pandas **DataFrame**.\n",
    "\n"
   ]
  },
  {
   "cell_type": "code",
   "execution_count": null,
   "metadata": {},
   "outputs": [],
   "source": [
    "df_jp = read_dataframe(PROCESSED_JP_DIR, JP_FILE, JP_INDEX)\n",
    "df_jp.head()"
   ]
  },
  {
   "cell_type": "markdown",
   "metadata": {
    "pycharm": {
     "name": "#%% md\n"
    }
   },
   "source": [
    "## 2. Upload parts of Orbis dataset\n",
    "\n",
    "The preprocessed Orbis dataset is stored on path:\n",
    "```python\n",
    "../data/processed/orbis/\n",
    "```\n",
    "\n",
    "The data are read into Pandas **DataFrame**.\n",
    "\n"
   ]
  },
  {
   "cell_type": "markdown",
   "metadata": {
    "pycharm": {
     "name": "#%% md\n"
    }
   },
   "source": [
    "### Read the company name dataframe\n",
    "\n",
    "We read the file containing Orbis company names."
   ]
  },
  {
   "cell_type": "code",
   "execution_count": null,
   "metadata": {
    "pycharm": {
     "name": "#%%\n"
    }
   },
   "outputs": [],
   "source": [
    "df_orbis_name = read_dataframe(PROCESSED_ORBIS_DIR, ORBIS_NAME_FILE)\n",
    "df_orbis_name.head()"
   ]
  },
  {
   "cell_type": "markdown",
   "metadata": {
    "pycharm": {
     "name": "#%% md\n"
    }
   },
   "source": [
    "### Read the company addresses dataframe\n",
    "\n",
    "We read the file containing Orbis company addresses."
   ]
  },
  {
   "cell_type": "code",
   "execution_count": null,
   "metadata": {
    "pycharm": {
     "name": "#%%\n"
    }
   },
   "outputs": [],
   "source": [
    "df_orbis_addresses = read_dataframe(PROCESSED_ORBIS_DIR, ORBIS_ADDR_FILE)\n",
    "df_orbis_addresses.head()"
   ]
  },
  {
   "cell_type": "markdown",
   "metadata": {},
   "source": [
    "### Join the Orbis dataframes\n",
    "\n",
    "We join Orbis parts to create one dataframe.\n",
    "\n",
    "Note: BvD ID number in addresses' dataframe is not unique.  "
   ]
  },
  {
   "cell_type": "code",
   "execution_count": null,
   "metadata": {
    "scrolled": true
   },
   "outputs": [],
   "source": [
    "df_orbis = df_orbis_name.merge(df_orbis_addresses, on=ORBIS_INDEX, how='inner')\n",
    "df_orbis.head()"
   ]
  },
  {
   "cell_type": "markdown",
   "metadata": {},
   "source": [
    "### Check the dataframe\n",
    "\n",
    "We check some values of the dataframes."
   ]
  },
  {
   "cell_type": "code",
   "execution_count": null,
   "metadata": {},
   "outputs": [],
   "source": [
    "print_dataframe_length(df_orbis)"
   ]
  },
  {
   "cell_type": "code",
   "execution_count": null,
   "metadata": {},
   "outputs": [],
   "source": [
    "# TODO: do in orbis-name notebook\n",
    "df_orbis.rename(columns={\"company_standard\": \"NAME_standard\", \"company_dict_clean\": \"NAME_dict_clean\"}, inplace=True)"
   ]
  },
  {
   "cell_type": "code",
   "execution_count": null,
   "metadata": {},
   "outputs": [],
   "source": [
    "# Check the states in Orbis\n",
    "df_orbis[ORBIS_COMPANY_STATE].unique()"
   ]
  },
  {
   "cell_type": "code",
   "execution_count": null,
   "metadata": {},
   "outputs": [],
   "source": [
    "# Check the states in JobPostings\n",
    "df_jp[JP_COMPANY_STATE].unique()"
   ]
  },
  {
   "cell_type": "code",
   "execution_count": null,
   "metadata": {},
   "outputs": [],
   "source": [
    "#df_orbis = df_orbis.head(1000)"
   ]
  },
  {
   "cell_type": "markdown",
   "metadata": {},
   "source": [
    "### Orbis index\n",
    "\n",
    "Change name of the Orbis index (it is not the _BvD ID_ because of the missing uniqueness."
   ]
  },
  {
   "cell_type": "code",
   "execution_count": null,
   "metadata": {},
   "outputs": [],
   "source": [
    "# Name the index for joining\n",
    "# JP dataset has unique index, therefore is set during the .csv reading\n",
    "df_orbis.index.name = 'orbis_index'"
   ]
  },
  {
   "cell_type": "markdown",
   "metadata": {},
   "source": [
    "## 3. Records to match\n",
    "\n",
    "Print the number of unmatched records and initialize a linking class."
   ]
  },
  {
   "cell_type": "code",
   "execution_count": null,
   "metadata": {},
   "outputs": [],
   "source": [
    "print_unmatched_counts(df_jp, JP_COMPANY_NAME_STANDARDIZED)"
   ]
  },
  {
   "cell_type": "code",
   "execution_count": null,
   "metadata": {},
   "outputs": [],
   "source": [
    "# Initialize class containing methods for record linkage\n",
    "linking = Linking(JP_INDEX, JP_COMPANY_NAME, JP_COMPANY_NAME_STANDARDIZED, JP_COMPANY_NAME_DICT_CLEANED,\n",
    "                  JP_COMPANY_CITY, JP_COMPANY_ZIP, JP_COMPANY_STATE,\n",
    "                  JP_JOB_CITY, JP_JOB_ZIP, JP_JOB_STATE,\n",
    "                  ORBIS_INDEX, ORBIS_COMPANY_NAME, ORBIS_COMPANY_NAME_STANDARDIZED, ORBIS_COMPANY_NAME_DICT_CLEANED,\n",
    "                  ORBIS_COMPANY_CITY, ORBIS_COMPANY_ZIP, ORBIS_COMPANY_STATE)\n"
   ]
  },
  {
   "cell_type": "markdown",
   "metadata": {
    "pycharm": {
     "name": "#%% md\n"
    }
   },
   "source": [
    "## 4. Sorted Neighbourhood Index with addresses\n",
    "\n",
    "Sorted Neighborhood Index using addresses for attribute comparison.\n",
    "\n",
    "We index on:\n",
    "\n",
    "1. Standardized company name and company address\n",
    "1. Standardized company name and job address\n",
    "1. Original company name and company address\n",
    "1. Original company name and job address"
   ]
  },
  {
   "cell_type": "markdown",
   "metadata": {},
   "source": [
    "### Standardized company name and company addresses\n",
    "\n",
    "Create SNI on standardized company name and filter matches using company addresses."
   ]
  },
  {
   "cell_type": "code",
   "execution_count": null,
   "metadata": {},
   "outputs": [],
   "source": [
    "# Create index\n",
    "indexer = recordlinkage.SortedNeighbourhoodIndex(JP_COMPANY_NAME_STANDARDIZED, ORBIS_COMPANY_NAME, window=7) \n",
    "\n",
    "# Make record pairs\n",
    "candidate_links = indexer.index(df_jp, df_orbis)\n",
    "\n",
    "print(f'Num of candidates: {len(candidate_links)}\\n')"
   ]
  },
  {
   "cell_type": "code",
   "execution_count": null,
   "metadata": {},
   "outputs": [],
   "source": [
    "# Compare fields of candidate pairs\n",
    "features_name = linking.compare_similar_records(df_jp, df_orbis, candidate_links, addr_type='company')\n",
    "\n",
    "# Filter candidate pairs\n",
    "df_merge_name_result = linking.merge_dataframes_on_linkage_result(features_name, df_jp, df_orbis, addr_type='company')"
   ]
  },
  {
   "cell_type": "code",
   "execution_count": null,
   "metadata": {},
   "outputs": [],
   "source": [
    "df_merge_name_result.head()"
   ]
  },
  {
   "cell_type": "code",
   "execution_count": null,
   "metadata": {
    "pycharm": {
     "name": "#%%\n"
    }
   },
   "outputs": [],
   "source": [
    "# Save dataframe to a csv file\n",
    "save_dataframe(df_merge_name_result, PROCESSED_DATA_DIR, SORTED_NN_MATCHING_STD_COMPANY)"
   ]
  },
  {
   "cell_type": "code",
   "execution_count": null,
   "metadata": {},
   "outputs": [],
   "source": [
    "# Process matched and not matched records\n",
    "# Add matches to a new df\n",
    "matched_df = df_merge_name_result.copy()\n",
    "matched_df.set_index([JP_INDEX, ORBIS_INDEX], inplace=True)\n",
    "\n",
    "# Remove matches from old JobPostings dataframe\n",
    "df_jp.drop(df_merge_name_result[JP_INDEX], axis=0, inplace=True)\n",
    "\n",
    "print_matched_counts(matched_df, JP_COMPANY_NAME_STANDARDIZED)\n",
    "print_unmatched_counts(df_jp, JP_COMPANY_NAME_STANDARDIZED)"
   ]
  },
  {
   "cell_type": "markdown",
   "metadata": {},
   "source": [
    "### Standardized company name and job addresses\n",
    "\n",
    "Create SNI on standardized company name and filter matches using job addresses."
   ]
  },
  {
   "cell_type": "code",
   "execution_count": null,
   "metadata": {},
   "outputs": [],
   "source": [
    "# Create index\n",
    "indexer = recordlinkage.SortedNeighbourhoodIndex(JP_COMPANY_NAME_STANDARDIZED, ORBIS_COMPANY_NAME, window=7)\n",
    "\n",
    "# Make record pairs\n",
    "candidate_links = indexer.index(df_jp, df_orbis)\n",
    "\n",
    "print(f'Num of candidates: {len(candidate_links)}\\n')"
   ]
  },
  {
   "cell_type": "code",
   "execution_count": null,
   "metadata": {},
   "outputs": [],
   "source": [
    "# Compare fields of candidate pairs\n",
    "features_name = linking.compare_similar_records(df_jp, df_orbis, candidate_links, addr_type='job')\n",
    "\n",
    "# Filter candidate pairs\n",
    "df_merge_name_result = linking.merge_dataframes_on_linkage_result(features_name, df_jp, df_orbis, addr_type='job')"
   ]
  },
  {
   "cell_type": "code",
   "execution_count": null,
   "metadata": {},
   "outputs": [],
   "source": [
    "df_merge_name_result.head()"
   ]
  },
  {
   "cell_type": "code",
   "execution_count": null,
   "metadata": {
    "pycharm": {
     "name": "#%%\n"
    }
   },
   "outputs": [],
   "source": [
    "# Save dataframe to a csv file\n",
    "save_dataframe(df_merge_name_result, PROCESSED_DATA_DIR, SORTED_NN_MATCHING_STD_JOB)"
   ]
  },
  {
   "cell_type": "code",
   "execution_count": null,
   "metadata": {
    "scrolled": true
   },
   "outputs": [],
   "source": [
    "# Process matched and not matched records\n",
    "linking.process_matched(df_jp, matched_df, df_merge_name_result, JP_COMPANY_NAME_STANDARDIZED)"
   ]
  },
  {
   "cell_type": "markdown",
   "metadata": {},
   "source": [
    "### Original company name and company addresses\n",
    "\n",
    "Create SNI on standardized company name and filter matches using company addresses."
   ]
  },
  {
   "cell_type": "code",
   "execution_count": null,
   "metadata": {},
   "outputs": [],
   "source": [
    "# Create index\n",
    "indexer = recordlinkage.SortedNeighbourhoodIndex(JP_COMPANY_NAME, ORBIS_COMPANY_NAME, window=7) \n",
    "\n",
    "# Make record pairs\n",
    "candidate_links = indexer.index(df_jp, df_orbis)\n",
    "\n",
    "print(f'Num of candidates: {len(candidate_links)}\\n')"
   ]
  },
  {
   "cell_type": "code",
   "execution_count": null,
   "metadata": {},
   "outputs": [],
   "source": [
    "# Compare fields of candidate pairs\n",
    "features_name = linking.compare_similar_records(df_jp, df_orbis, candidate_links, addr_type='company')\n",
    "\n",
    "# Filter candidate pairs\n",
    "df_merge_name_result = linking.merge_dataframes_on_linkage_result(features_name, df_jp, df_orbis, addr_type='company')"
   ]
  },
  {
   "cell_type": "code",
   "execution_count": null,
   "metadata": {},
   "outputs": [],
   "source": [
    "df_merge_name_result.head()"
   ]
  },
  {
   "cell_type": "code",
   "execution_count": null,
   "metadata": {
    "pycharm": {
     "name": "#%%\n"
    }
   },
   "outputs": [],
   "source": [
    "# Save dataframe to a csv file\n",
    "save_dataframe(df_merge_name_result, PROCESSED_DATA_DIR, SORTED_NN_MATCHING_ORG_COMPANY)"
   ]
  },
  {
   "cell_type": "code",
   "execution_count": null,
   "metadata": {},
   "outputs": [],
   "source": [
    "# Process matched and not matched records\n",
    "linking.process_matched(df_jp, matched_df, df_merge_name_result, JP_COMPANY_NAME_STANDARDIZED)"
   ]
  },
  {
   "cell_type": "markdown",
   "metadata": {},
   "source": [
    "### Original company name and job addresses\n",
    "\n",
    "Create SNI on standardized company name and filter matches using job addresses."
   ]
  },
  {
   "cell_type": "code",
   "execution_count": null,
   "metadata": {},
   "outputs": [],
   "source": [
    "# Create index\n",
    "indexer = recordlinkage.SortedNeighbourhoodIndex(JP_COMPANY_NAME, ORBIS_COMPANY_NAME, window=7)\n",
    "\n",
    "# Make record pairs\n",
    "candidate_links = indexer.index(df_jp, df_orbis)\n",
    "\n",
    "print(f'Num of candidates: {len(candidate_links)}\\n')"
   ]
  },
  {
   "cell_type": "code",
   "execution_count": null,
   "metadata": {},
   "outputs": [],
   "source": [
    "# Compare fields of candidate pairs\n",
    "features_name = linking.compare_similar_records(df_jp, df_orbis, candidate_links, addr_type='job')\n",
    "\n",
    "# Filter candidate pairs\n",
    "df_merge_name_result = linking.merge_dataframes_on_linkage_result(features_name, df_jp, df_orbis, addr_type='job')"
   ]
  },
  {
   "cell_type": "code",
   "execution_count": null,
   "metadata": {},
   "outputs": [],
   "source": [
    "df_merge_name_result.head()"
   ]
  },
  {
   "cell_type": "code",
   "execution_count": null,
   "metadata": {
    "pycharm": {
     "name": "#%%\n"
    }
   },
   "outputs": [],
   "source": [
    "# Save dataframe to a csv file\n",
    "save_dataframe(df_merge_name_result, PROCESSED_DATA_DIR, SORTED_NN_MATCHING_ORG_JOB)"
   ]
  },
  {
   "cell_type": "code",
   "execution_count": null,
   "metadata": {
    "scrolled": false
   },
   "outputs": [],
   "source": [
    "# Process matched and not matched records\n",
    "linking.process_matched(df_jp, matched_df, df_merge_name_result, JP_COMPANY_NAME_STANDARDIZED)"
   ]
  },
  {
   "cell_type": "markdown",
   "metadata": {},
   "source": [
    "## 5. Sorted Neighbourhood Index without addresses\n",
    "\n",
    "Sorted Neighborhood Index not using addresses for attribute comparison.\n",
    "\n",
    "We index on:\n",
    "\n",
    "1. Standardized company name\n",
    "1. Standardized company name\n",
    "1. Original company name\n",
    "1. Original company name\n",
    "\n",
    "We repeat the process to get more matches, since more company names get into candidate pairs using the window size."
   ]
  },
  {
   "cell_type": "markdown",
   "metadata": {},
   "source": [
    "### Standardized company name \n",
    "\n",
    "Create SNI on standardized company name without using addresses."
   ]
  },
  {
   "cell_type": "code",
   "execution_count": null,
   "metadata": {},
   "outputs": [],
   "source": [
    "# Create index\n",
    "indexer = recordlinkage.SortedNeighbourhoodIndex(JP_COMPANY_NAME_STANDARDIZED, ORBIS_COMPANY_NAME, window=7) \n",
    "\n",
    "# Make record pairs\n",
    "candidate_links = indexer.index(df_jp, df_orbis)\n",
    "\n",
    "print(f'Num of candidates: {len(candidate_links)}\\n')"
   ]
  },
  {
   "cell_type": "code",
   "execution_count": null,
   "metadata": {},
   "outputs": [],
   "source": [
    "# Compare fields of candidate pairs\n",
    "features_name = linking.compare_similar_records(df_jp, df_orbis, candidate_links)\n",
    "\n",
    "# Filter candidate pairs\n",
    "df_merge_name_result = linking.merge_dataframes_on_linkage_result(features_name, df_jp, df_orbis,  score_threshold=1)"
   ]
  },
  {
   "cell_type": "code",
   "execution_count": null,
   "metadata": {},
   "outputs": [],
   "source": [
    "df_merge_name_result.head()"
   ]
  },
  {
   "cell_type": "code",
   "execution_count": null,
   "metadata": {
    "pycharm": {
     "name": "#%%\n"
    }
   },
   "outputs": [],
   "source": [
    "# Save dataframe to a csv file\n",
    "save_dataframe(df_merge_name_result, PROCESSED_DATA_DIR, SORTED_NN_MATCHING_STD)"
   ]
  },
  {
   "cell_type": "code",
   "execution_count": null,
   "metadata": {},
   "outputs": [],
   "source": [
    "# Process matched and not matched records\n",
    "linking.process_matched(df_jp, matched_df, df_merge_name_result, JP_COMPANY_NAME_STANDARDIZED)"
   ]
  },
  {
   "cell_type": "markdown",
   "metadata": {},
   "source": [
    "### Standardized company name\n",
    "\n",
    "Create SNI on standardized company without using addresses."
   ]
  },
  {
   "cell_type": "code",
   "execution_count": null,
   "metadata": {},
   "outputs": [],
   "source": [
    "# Create index\n",
    "indexer = recordlinkage.SortedNeighbourhoodIndex(JP_COMPANY_NAME_STANDARDIZED, ORBIS_COMPANY_NAME, window=7)\n",
    "\n",
    "# Make record pairs\n",
    "candidate_links = indexer.index(df_jp, df_orbis)\n",
    "\n",
    "print(f'Num of candidates: {len(candidate_links)}\\n')"
   ]
  },
  {
   "cell_type": "code",
   "execution_count": null,
   "metadata": {},
   "outputs": [],
   "source": [
    "# Compare fields of candidate pairs\n",
    "features_name = linking.compare_similar_records(df_jp, df_orbis, candidate_links)\n",
    "\n",
    "# Filter candidate pairs\n",
    "df_merge_name_result = linking.merge_dataframes_on_linkage_result(features_name, df_jp, df_orbis, score_threshold=1)"
   ]
  },
  {
   "cell_type": "code",
   "execution_count": null,
   "metadata": {},
   "outputs": [],
   "source": [
    "df_merge_name_result.head()"
   ]
  },
  {
   "cell_type": "code",
   "execution_count": null,
   "metadata": {
    "pycharm": {
     "name": "#%%\n"
    }
   },
   "outputs": [],
   "source": [
    "# Save dataframe to a csv file\n",
    "save_dataframe(df_merge_name_result, PROCESSED_DATA_DIR, SORTED_NN_MATCHING_STD_2)"
   ]
  },
  {
   "cell_type": "code",
   "execution_count": null,
   "metadata": {
    "scrolled": true
   },
   "outputs": [],
   "source": [
    "# Process matched and not matched records\n",
    "linking.process_matched(df_jp, matched_df, df_merge_name_result, JP_COMPANY_NAME_STANDARDIZED)"
   ]
  },
  {
   "cell_type": "markdown",
   "metadata": {},
   "source": [
    "### Original company name\n",
    "\n",
    "Create SNI on standardized company name without using addresses."
   ]
  },
  {
   "cell_type": "code",
   "execution_count": null,
   "metadata": {},
   "outputs": [],
   "source": [
    "# Create index\n",
    "indexer = recordlinkage.SortedNeighbourhoodIndex(JP_COMPANY_NAME, ORBIS_COMPANY_NAME, window=7) \n",
    "\n",
    "# Make record pairs\n",
    "candidate_links = indexer.index(df_jp, df_orbis)\n",
    "\n",
    "print(f'Num of candidates: {len(candidate_links)}\\n')"
   ]
  },
  {
   "cell_type": "code",
   "execution_count": null,
   "metadata": {},
   "outputs": [],
   "source": [
    "# Compare fields of candidate pairs\n",
    "features_name = linking.compare_similar_records(df_jp, df_orbis, candidate_links)\n",
    "\n",
    "# Filter candidate pairs\n",
    "df_merge_name_result = linking.merge_dataframes_on_linkage_result(features_name, df_jp, df_orbis, score_threshold=1)"
   ]
  },
  {
   "cell_type": "code",
   "execution_count": null,
   "metadata": {},
   "outputs": [],
   "source": [
    "df_merge_name_result.head()"
   ]
  },
  {
   "cell_type": "code",
   "execution_count": null,
   "metadata": {
    "pycharm": {
     "name": "#%%\n"
    }
   },
   "outputs": [],
   "source": [
    "# Save dataframe to a csv file\n",
    "save_dataframe(df_merge_name_result, PROCESSED_DATA_DIR, SORTED_NN_MATCHING_ORG)"
   ]
  },
  {
   "cell_type": "code",
   "execution_count": null,
   "metadata": {},
   "outputs": [],
   "source": [
    "# Process matched and not matched records\n",
    "linking.process_matched(df_jp, matched_df, df_merge_name_result, JP_COMPANY_NAME_STANDARDIZED)"
   ]
  },
  {
   "cell_type": "markdown",
   "metadata": {},
   "source": [
    "### Original company name\n",
    "\n",
    "Create SNI on standardized company name without using addresses."
   ]
  },
  {
   "cell_type": "code",
   "execution_count": null,
   "metadata": {},
   "outputs": [],
   "source": [
    "# Create index\n",
    "indexer = recordlinkage.SortedNeighbourhoodIndex(JP_COMPANY_NAME, ORBIS_COMPANY_NAME, window=7)\n",
    "\n",
    "# Make record pairs\n",
    "candidate_links = indexer.index(df_jp, df_orbis)\n",
    "\n",
    "print(f'Num of candidates: {len(candidate_links)}\\n')"
   ]
  },
  {
   "cell_type": "code",
   "execution_count": null,
   "metadata": {},
   "outputs": [],
   "source": [
    "# Compare fields of candidate pairs\n",
    "features_name = linking.compare_similar_records(df_jp, df_orbis, candidate_links)\n",
    "\n",
    "# Filter candidate pairs\n",
    "df_merge_name_result = linking.merge_dataframes_on_linkage_result(features_name, df_jp, df_orbis, score_threshold=1)"
   ]
  },
  {
   "cell_type": "code",
   "execution_count": null,
   "metadata": {},
   "outputs": [],
   "source": [
    "df_merge_name_result.head()"
   ]
  },
  {
   "cell_type": "code",
   "execution_count": null,
   "metadata": {
    "pycharm": {
     "name": "#%%\n"
    }
   },
   "outputs": [],
   "source": [
    "# Save dataframe to a csv file\n",
    "save_dataframe(df_merge_name_result, PROCESSED_DATA_DIR, SORTED_NN_MATCHING_ORG_2)"
   ]
  },
  {
   "cell_type": "code",
   "execution_count": null,
   "metadata": {
    "scrolled": false
   },
   "outputs": [],
   "source": [
    "# Process matched and not matched records\n",
    "linking.process_matched(df_jp, matched_df, df_merge_name_result, JP_COMPANY_NAME_STANDARDIZED)"
   ]
  },
  {
   "cell_type": "markdown",
   "metadata": {},
   "source": [
    "## 6. Save processed data\n",
    "\n",
    "The processed data is stored in a csv file on a path:\n",
    "```python\n",
    "../data/processed/linkage/\n",
    "```"
   ]
  },
  {
   "cell_type": "markdown",
   "metadata": {},
   "source": [
    "### Save matched"
   ]
  },
  {
   "cell_type": "code",
   "execution_count": null,
   "metadata": {},
   "outputs": [],
   "source": [
    "save_dataframe(matched_df, PROCESSED_DATA_DIR, LINKED_DF)"
   ]
  },
  {
   "cell_type": "markdown",
   "metadata": {},
   "source": [
    "### Save not-matched"
   ]
  },
  {
   "cell_type": "code",
   "execution_count": null,
   "metadata": {
    "scrolled": true
   },
   "outputs": [],
   "source": [
    "save_dataframe(pd.DataFrame(df_jp[JP_COMPANY_NAME].unique()), PROCESSED_DATA_DIR, NOT_MATCHED)"
   ]
  }
 ],
 "metadata": {
  "kernelspec": {
   "display_name": "Python 3",
   "language": "python",
   "name": "python3"
  },
  "language_info": {
   "codemirror_mode": {
    "name": "ipython",
    "version": 3
   },
   "file_extension": ".py",
   "mimetype": "text/x-python",
   "name": "python",
   "nbconvert_exporter": "python",
   "pygments_lexer": "ipython3",
   "version": "3.7.8"
  }
 },
 "nbformat": 4,
 "nbformat_minor": 1
}
